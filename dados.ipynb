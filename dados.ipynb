{
  "nbformat": 4,
  "nbformat_minor": 0,
  "metadata": {
    "colab": {
      "name": "Untitled80.ipynb",
      "provenance": [],
      "authorship_tag": "ABX9TyPWmoYEWyEcVId0k+jvPi71",
      "include_colab_link": true
    },
    "kernelspec": {
      "name": "python3",
      "display_name": "Python 3"
    },
    "language_info": {
      "name": "python"
    }
  },
  "cells": [
    {
      "cell_type": "markdown",
      "metadata": {
        "id": "view-in-github",
        "colab_type": "text"
      },
      "source": [
        "<a href=\"https://colab.research.google.com/github/alfmorais/python_projeto_controle_de_cotas_de_disco/blob/main/dados.ipynb\" target=\"_parent\"><img src=\"https://colab.research.google.com/assets/colab-badge.svg\" alt=\"Open In Colab\"/></a>"
      ]
    },
    {
      "cell_type": "code",
      "metadata": {
        "id": "JQAoWGMg-S-w"
      },
      "source": [
        "nomes = ['Alexandre', 'Eduardo', 'Henrique', 'Murilo', 'Theo', 'Andre', 'Enrico',\n",
        "         'Henry', 'Nathan', 'Thiago', 'Antonio', 'Enzo', 'Ian', 'Otavi', 'Thomas',\n",
        "         'Augusto', 'Erick', 'Isaac', 'Pietro', 'Vicente', 'Breno', 'Felipe', \n",
        "         'Joao', 'Rafael', 'Vinicius', 'Bruno', 'Fernando', 'Kaique', 'Raul', \n",
        "         'Vitor', 'Caio', 'Francisco', 'Leonardo', 'Rian', 'Yago', 'Caua',\n",
        "         'Frederico', 'Luan', 'Ricardo', 'Ygor', 'Daniel', 'Guilherme', 'Lucas', \n",
        "         'Rodrigo', 'Yuri', 'Danilo', 'Gustavo', 'Mathias', 'Samuel', \n",
        "         'Arthur Gabriel',\t'Joao Vitor', 'Arthur Miguel','Luiz Felipe', \n",
        "         'Carlos Eduardo', 'Luiz Gustavo', 'Davi Luiz', 'Luiz Henrique',\n",
        "         'Davi Miguel', 'Luiz Miguel', 'Enzo Gabriel', 'Luiz Otavio', \n",
        "         'Enzo Miguel', 'Lucas Gabriel', 'Joao Gabriel', 'Pedro Henrique', \n",
        "         'Joao Guilherme\t', 'Pedro Lucas', 'Joao Lucas', 'Pedro Miguel', \n",
        "         'Joao Miguel', 'Vitor Hugo', 'Joao Pedro', 'Agatha', 'Camila', 'Esther', \n",
        "         'Isis', 'Maite', 'Natalia', 'Alicia', 'Carolina', 'Fernanda', 'Joana', \n",
        "         'Malu', 'Nicole', 'Amanda', 'Catarina', 'Gabriela', 'Lais', 'Maria', \n",
        "         'Olivia', 'Ana', 'Cecilia', 'Gabrielle', 'Lara', 'Mariah',\n",
        "         'Pietra', 'Antonela', 'Clara', 'Giovanna',\t'Larissa', 'Mariana', \n",
        "         'Rafaela','Aurora', 'Clarice',\t'Giulia', 'Lavinia', 'Marina', 'Rebeca', \n",
        "         'Barbara',\t'Eduarda', 'Heloisa', 'Leticia',\t'Maya', 'Sara', 'Beatriz', \n",
        "         'Elisa', 'Isabel', 'Liz', 'Melissa', 'Sophie', 'Bianca', 'Emanuelly', \n",
        "         'Isabelly', 'Lorena', 'Milena', 'Stella', 'Bruna', 'Emilly', 'Isadora', \n",
        "         'Luana', 'Mirella', 'Vitoria', 'Yasmin', 'Ana Beatriz', 'Maria Eduarda', \n",
        "         'Ana Cecília', 'Maria Fernanda', 'Ana Clara', 'Maria Flor', 'Ana Julia',\t\n",
        "         'Maria Helena', 'Ana Laura','Maria Isis', 'Ana Livia', 'Maria Julia', \n",
        "         'Ana Luiza', 'Maria Laura', 'Ana Sofia', 'Maria Luiza', 'Ana Vitoria',\t\n",
        "         'Maria Sophia', 'Maria Alice',\t'Maria Valentina','Maria Cecilia', \n",
        "         'Maria Vitoria', 'Maria Clara', 'Alvaro', 'Cicero', 'Gael',\n",
        "         'Lino', 'Salomao', 'Amado', 'Ciro', 'Gaspar',\t'Lourenco',\t'Santiago',\n",
        "         'Antony', 'Conrado',\t'Goncalo', 'Martim', 'Serafim', 'Bartolomeu',\t\n",
        "         'Cristovao', 'Gregorio', 'Nicolas', 'Tadeu', 'Benedito', 'Dante', \n",
        "         'Guilhermo', 'Noah', 'Tome', 'Benicio', 'Dimitri', 'Hermano', 'Nuno', \n",
        "         'Valentino', 'Benito', 'Dom', 'Icaro', 'Oliver', 'Vince', 'Benjamin', \n",
        "         'Emanuel', 'Inacio', 'Oscar', 'Zion', 'Bento', 'Ernesto', 'Levi', \n",
        "         'Romeu', 'Calebe', 'Franco', 'Lince','Ruan', 'Assucena', 'Augusta', \n",
        "         'Coralina', 'Hortensia', 'Martina', 'Pilar','Adele', 'Ayla', \n",
        "         'Dora', 'Iolanda', 'Matilda', 'Ramona', 'Agnes', 'Benedita',\n",
        "         'Eleonara', 'Julieta', 'Melina', 'Serena', 'Alegra', 'Betina', \n",
        "         'Esperanca', 'Lia', 'Mia', 'Tarsila', 'Allana', 'Branca', 'Estrela', \n",
        "         'Linda', 'Micaela', 'Teodora', 'Amelia', 'Caetana', 'Felipa', \n",
        "         'Lolita', 'Naomi', 'Ursula', 'Amora',\n",
        "         'Carlota', 'Flora', 'Louise', 'Olga', 'Vida', 'Anabel', \n",
        "         'Celina', 'Florenca', 'Frederica', 'Mabel', \n",
        "         'Luna', 'Pandora',\t 'Violeta', 'Analu', 'Charlote', \n",
        "         'Penelope', 'Zoe', 'Anastacia', 'Constanca', 'Gaia', 'Maia', 'Perola',\t\n",
        "         'Angelina', 'Cora', 'Guadalupe', 'Margarida', 'Petra']"
      ],
      "execution_count": 1,
      "outputs": []
    },
    {
      "cell_type": "code",
      "metadata": {
        "id": "t1mdCxKOJL8Z"
      },
      "source": [
        "lista_byte = list(range(1000000))"
      ],
      "execution_count": 4,
      "outputs": []
    },
    {
      "cell_type": "code",
      "metadata": {
        "id": "ErE8GadsJTuS"
      },
      "source": [
        "import random as rand"
      ],
      "execution_count": 5,
      "outputs": []
    },
    {
      "cell_type": "code",
      "metadata": {
        "id": "DUZxhVYPJoLt"
      },
      "source": [
        "lista_nomes = rand.sample(nomes, 10)\n",
        "lista_bytes = rand.sample(lista_bytes, 10)"
      ],
      "execution_count": 6,
      "outputs": []
    },
    {
      "cell_type": "code",
      "metadata": {
        "id": "xTqD0GPoJ39j"
      },
      "source": [
        "import pandas as pd\n",
        "\n",
        "dataframe = pd.DataFrame({\n",
        "    'Nomes': lista_nomes,\n",
        "    'Dados': lista_bytes,\n",
        "})"
      ],
      "execution_count": 7,
      "outputs": []
    },
    {
      "cell_type": "code",
      "metadata": {
        "colab": {
          "base_uri": "https://localhost:8080/"
        },
        "id": "BNGN21_nKDAm",
        "outputId": "46e83ad8-a789-40be-8a8a-3a5cb48f47a4"
      },
      "source": [
        "print(dataframe)"
      ],
      "execution_count": 8,
      "outputs": [
        {
          "output_type": "stream",
          "text": [
            "           Nomes   Dados\n",
            "0        Violeta  771993\n",
            "1  Arthur Miguel  597434\n",
            "2         Milena  452206\n",
            "3         Sophie  291814\n",
            "4          Andre  925515\n",
            "5           Rian  286705\n",
            "6        Nicolas  335546\n",
            "7         Aurora  696200\n",
            "8        Beatriz  877570\n",
            "9        Augusta  321899\n"
          ],
          "name": "stdout"
        }
      ]
    },
    {
      "cell_type": "code",
      "metadata": {
        "colab": {
          "base_uri": "https://localhost:8080/"
        },
        "id": "7-T86Wm8KgNM",
        "outputId": "d64cc1e7-8ebe-4dc1-c1cc-e5c4e38de252"
      },
      "source": [
        "tabela = dataframe.to_string(index=False)\n",
        "print(tabela)"
      ],
      "execution_count": 9,
      "outputs": [
        {
          "output_type": "stream",
          "text": [
            "         Nomes   Dados\n",
            "       Violeta  771993\n",
            " Arthur Miguel  597434\n",
            "        Milena  452206\n",
            "        Sophie  291814\n",
            "         Andre  925515\n",
            "          Rian  286705\n",
            "       Nicolas  335546\n",
            "        Aurora  696200\n",
            "       Beatriz  877570\n",
            "       Augusta  321899\n"
          ],
          "name": "stdout"
        }
      ]
    },
    {
      "cell_type": "code",
      "metadata": {
        "id": "mCUjgjxVKzqR"
      },
      "source": [
        ""
      ],
      "execution_count": null,
      "outputs": []
    }
  ]
}