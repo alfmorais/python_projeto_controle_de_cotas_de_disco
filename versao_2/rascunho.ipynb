{
  "nbformat": 4,
  "nbformat_minor": 0,
  "metadata": {
    "colab": {
      "name": "Untitled77.ipynb",
      "provenance": [],
      "authorship_tag": "ABX9TyN+3sWWICcjbpptu4SD9+lX",
      "include_colab_link": true
    },
    "kernelspec": {
      "name": "python3",
      "display_name": "Python 3"
    },
    "language_info": {
      "name": "python"
    }
  },
  "cells": [
    {
      "cell_type": "markdown",
      "metadata": {
        "id": "view-in-github",
        "colab_type": "text"
      },
      "source": [
        "<a href=\"https://colab.research.google.com/github/alfmorais/python_projeto_controle_de_cotas_de_disco/blob/main/rascunho.ipynb\" target=\"_parent\"><img src=\"https://colab.research.google.com/assets/colab-badge.svg\" alt=\"Open In Colab\"/></a>"
      ]
    },
    {
      "cell_type": "code",
      "metadata": {
        "id": "TSPIMfL5d5AE"
      },
      "source": [
        "conteudo = ['              Nome   Dado\\n', '0        Francisco  41714\\n', '1             Ygor  48516\\n', '2    Maria Eduarda  71398\\n', '3          Benicio  55955\\n', '4             Caua  85798\\n', '5           Agatha  20154\\n', '6            Petra   5687\\n', '7             Olga  93153\\n', '8     Joao Gabriel  26897\\n', '9       Joao Pedro  64703\\n', '10            Raul  87752\\n', '11         Isadora  63638\\n', '12      Maria Flor  68484\\n', '13          Branca  71483\\n', '14           Henry  62296\\n', '15          Nathan  92816\\n', '16          Sophie  46600\\n', '17         Vitoria  44978\\n', '18         Salomao  23703\\n', '19            Caio  90489\\n', '20          Isabel   6692\\n', '21         Conrado  99415\\n', '22       Emanuelly  97950\\n', '23           Vitor  17173\\n', '24         Larissa  59055\\n', '25   Maria Cecilia  70888\\n', '26        Charlote   8353\\n', '27        Catarina  37195\\n', '28     Luiz Otavio  53648\\n', '29         Lavinia  83536\\n', '30         Estrela  88229\\n', '31    Pedro Miguel  21780\\n', '32         Tarsila  49683\\n', '33            Gaia  17287\\n', '34       Ana Livia  36264\\n', '35           Mabel  64611\\n', '36            Lara  67524\\n', '37         Martina  34128\\n', '38     Maria Laura     33\\n', '39       Gabrielle  23360\\n', '40            Lino  81207\\n', '41          Bianca    875\\n', '42         Rafaela  88531\\n', '43        Carolina  81028\\n', '44          Inacio  57715\\n', '45   Luiz Henrique  12473\\n', '46        Gabriela  50963\\n', '47           Dante  22738\\n', '48        Angelina  40965\\n', '49           Lucas  93683\\n', '50         Hermano  98758\\n', '51          Ursula  76136\\n', '52    Maria Helena  80559\\n', '53          Camila  80378\\n', '54         Eduardo  26056\\n', '55          Alicia  41604\\n', '56       Ana Sofia   6176\\n', '57            Maya  37661\\n', '58         Ricardo  95866\\n', '59   Arthur Miguel  83830\\n', '60           Tadeu  45358\\n', '61       Guadalupe   3164\\n', '62    Enzo Gabriel  51013\\n', '63      Maria Isis  78326\\n', '64         Ernesto  70842\\n', '65  Arthur Gabriel  43330\\n', '66       Frederica  47874\\n', '67     Ana Beatriz  54452\\n', '68           Bruno  88372\\n', '69           Joana  14491\\n', '70            Vida  58961\\n', '71        Lourenco  97620\\n', '72            Noah  62526\\n', '73            Cora  44221\\n', '74            Joao  79252\\n', '75           Linda  35232\\n', '76          Samuel  10407\\n', '77            Luan  57525\\n', '78           Amado  36738\\n', '79            Isis  76425\\n', '80          Olivia  56625\\n', '81     Ana Cecília  26875\\n', '82        Assucena  17720\\n', '83        Coralina   3317\\n', '84     Maria Clara  87913\\n', '85       Valentino  45327\\n', '86         Heloisa  79371\\n', '87          Cicero  57885\\n', '88         Caetana  82017\\n', '89         Leticia  14910\\n', '90          Murilo  67451\\n', '91        Gregorio  55567\\n', '92        Santiago  70501\\n', '93            Ciro  26366\\n', '94  Joao Guilherme  63672\\n', '95           Analu  30622\\n', '96     Luiz Felipe  39536\\n', '97           Amora  30479\\n', '98     Enzo Miguel   1262']"
      ],
      "execution_count": 10,
      "outputs": []
    },
    {
      "cell_type": "code",
      "metadata": {
        "id": "WLq4qUzZeDOn"
      },
      "source": [
        "def limpando_dados_gerados(conteudo):\n",
        "\n",
        "  # Eliminando o cabeçalho do dataframe\n",
        "  # Eliminando os ultimos digitos\n",
        "  # Eliminando os espaços em branco\n",
        "  \n",
        "  if conteudo[0] == '              Nome   Dado\\n':\n",
        "      del(conteudo[0])\n",
        "  \n",
        "  novo_conteudo = []\n",
        "\n",
        "  for indice in conteudo:\n",
        "    indice = indice[:-1]\n",
        "    indice = indice[2:]\n",
        "    #indice = indice.replace(' ', '')\n",
        "    novo_conteudo.append(indice)\n",
        "    \n",
        "  return novo_conteudo"
      ],
      "execution_count": 11,
      "outputs": []
    },
    {
      "cell_type": "code",
      "metadata": {
        "colab": {
          "base_uri": "https://localhost:8080/"
        },
        "id": "FZozwQZDfMoj",
        "outputId": "8f5231b8-5655-4284-a4b0-611bc3dea8b6"
      },
      "source": [
        "novo_conteudo = limpando_dados_gerados(conteudo)\n",
        "print(novo_conteudo)"
      ],
      "execution_count": 12,
      "outputs": [
        {
          "output_type": "stream",
          "text": [
            "['       Francisco  41714', '            Ygor  48516', '   Maria Eduarda  71398', '         Benicio  55955', '            Caua  85798', '          Agatha  20154', '           Petra   5687', '            Olga  93153', '    Joao Gabriel  26897', '      Joao Pedro  64703', '            Raul  87752', '         Isadora  63638', '      Maria Flor  68484', '          Branca  71483', '           Henry  62296', '          Nathan  92816', '          Sophie  46600', '         Vitoria  44978', '         Salomao  23703', '            Caio  90489', '          Isabel   6692', '         Conrado  99415', '       Emanuelly  97950', '           Vitor  17173', '         Larissa  59055', '   Maria Cecilia  70888', '        Charlote   8353', '        Catarina  37195', '     Luiz Otavio  53648', '         Lavinia  83536', '         Estrela  88229', '    Pedro Miguel  21780', '         Tarsila  49683', '            Gaia  17287', '       Ana Livia  36264', '           Mabel  64611', '            Lara  67524', '         Martina  34128', '     Maria Laura     33', '       Gabrielle  23360', '            Lino  81207', '          Bianca    875', '         Rafaela  88531', '        Carolina  81028', '          Inacio  57715', '   Luiz Henrique  12473', '        Gabriela  50963', '           Dante  22738', '        Angelina  40965', '           Lucas  93683', '         Hermano  98758', '          Ursula  76136', '    Maria Helena  80559', '          Camila  80378', '         Eduardo  26056', '          Alicia  41604', '       Ana Sofia   6176', '            Maya  37661', '         Ricardo  95866', '   Arthur Miguel  83830', '           Tadeu  45358', '       Guadalupe   3164', '    Enzo Gabriel  51013', '      Maria Isis  78326', '         Ernesto  70842', '  Arthur Gabriel  43330', '       Frederica  47874', '     Ana Beatriz  54452', '           Bruno  88372', '           Joana  14491', '            Vida  58961', '        Lourenco  97620', '            Noah  62526', '            Cora  44221', '            Joao  79252', '           Linda  35232', '          Samuel  10407', '            Luan  57525', '           Amado  36738', '            Isis  76425', '          Olivia  56625', '     Ana Cecília  26875', '        Assucena  17720', '        Coralina   3317', '     Maria Clara  87913', '       Valentino  45327', '         Heloisa  79371', '          Cicero  57885', '         Caetana  82017', '         Leticia  14910', '          Murilo  67451', '        Gregorio  55567', '        Santiago  70501', '            Ciro  26366', '  Joao Guilherme  63672', '           Analu  30622', '     Luiz Felipe  39536', '           Amora  30479', '     Enzo Miguel   126']\n"
          ],
          "name": "stdout"
        }
      ]
    },
    {
      "cell_type": "code",
      "metadata": {
        "id": "eFIruk_kxH8p"
      },
      "source": [
        "import pandas as pd\n",
        "import random as rand\n",
        "\n",
        "\n",
        "# Caminho do arquivo nomes.txt -> OBS: Sempre verificar o path\n",
        "caminho = '/content/nomes.txt'\n",
        "\n",
        "# Lista vazia para nomes\n",
        "nomes = []\n",
        "\n",
        "# Abrindo o arquivo nomes.txt e armazenando todos os nomes em uma lista\n",
        "with open(caminho, 'r') as objeto_arquivo:\n",
        "    arquivo = objeto_arquivo.readlines()\n",
        "    for linha in arquivo:\n",
        "        linha = linha.strip()\n",
        "        nomes.append(linha)\n",
        "\n",
        "# Lista de números para simular a quantidades de dados\n",
        "dados = list(range(99999))\n",
        "\n",
        "\n",
        "def dados_teste(nomes, dados, quantidade):\n",
        "    \"\"\"Função que retorna a quantidade de funcionários e dados referentes ao \n",
        "    arquivo teste, Exemplo de uso da função\n",
        "\n",
        "    Args:\n",
        "        nomes ([lista]): lista de nomes que está declarado no arquivo\n",
        "        dados ([lista]): lista de numeros declarados com a função range\n",
        "        quantidade ([inteiro]): quantidade de dados definido pelo usuario\n",
        "\n",
        "    Returns:\n",
        "        [file.txt]: o retorno da função será um arquivo txt com dados selecionados\n",
        "        de maneira randomica. \n",
        "    \"\"\"\n",
        "\n",
        "    # Função random.choices para o nome e dados\n",
        "    lista_nome = rand.sample(nomes, quantidade)\n",
        "    lista_dado = rand.sample(dados, quantidade)\n",
        "\n",
        "    # Dataframe com os dados de teste\n",
        "    arquivo_dados = pd.DataFrame({\n",
        "        'Nome': lista_nome,\n",
        "        'Dado': lista_dado,\n",
        "    })\n",
        "\n",
        "    # Elaboração do arquivo txt para teste\n",
        "    with open('dados_de_texto.txt', 'w') as arquivo_dados_de_teste:\n",
        "        arquivo_dados_de_teste.write(arquivo_dados.to_string())\n",
        "\n",
        "    # Retorno do arquivo dados de teste\n",
        "    return arquivo_dados_de_teste\n",
        "\n",
        "\n",
        "arquivo = dados_teste(nomes, dados, 99)"
      ],
      "execution_count": null,
      "outputs": []
    },
    {
      "cell_type": "code",
      "metadata": {
        "id": "iuFJIsiLxKR8"
      },
      "source": [
        "arquivo"
      ],
      "execution_count": null,
      "outputs": []
    },
    {
      "cell_type": "code",
      "metadata": {
        "id": "jEwui02ZxMb2"
      },
      "source": [
        "\n",
        "def leitura_arquivo_gerado(caminho):\n",
        "\n",
        "  conteudo = []\n",
        "  caminho = '/content/dados_de_texto.txt'\n",
        "\n",
        "  with open(caminho, 'r') as arquivo_dados:\n",
        "    for linha in arquivo_dados:\n",
        "      linha = str(linha)\n",
        "      conteudo.append(linha)\n",
        "\n",
        "  return conteudo"
      ],
      "execution_count": null,
      "outputs": []
    },
    {
      "cell_type": "code",
      "metadata": {
        "id": "sfc66Vc6xO4Z"
      },
      "source": [
        "\n",
        "conteudo = leitura_arquivo_gerado(arquivo)\n",
        "print(conteudo)"
      ],
      "execution_count": null,
      "outputs": []
    },
    {
      "cell_type": "code",
      "metadata": {
        "id": "sMy9wbcGxQup"
      },
      "source": [
        "\n",
        "def limpando_dados_gerados(conteudo):\n",
        "\n",
        "  # Eliminando o cabeçalho do dataframe\n",
        "  # Eliminando os ultimos digitos\n",
        "  # Eliminando os espaços em branco\n",
        "  \n",
        "  if conteudo[0] == '              Nome   Dado\\n':\n",
        "      del(conteudo[0])\n",
        "  \n",
        "  novo_conteudo = []\n",
        "\n",
        "  for indice in conteudo:\n",
        "    indice = indice[:-1]\n",
        "    indice = indice.replace(' ', '')\n",
        "    indice = indice.replace(indice[0], '')\n",
        "    novo_conteudo.append(indice)\n",
        "    \n",
        "  return novo_conteudo"
      ],
      "execution_count": null,
      "outputs": []
    },
    {
      "cell_type": "code",
      "metadata": {
        "id": "GuhWsiRBxSNs"
      },
      "source": [
        "conteudo = limpando_dados_gerados(conteudo)\n",
        "print(conteudo)"
      ],
      "execution_count": null,
      "outputs": []
    }
  ]
}
