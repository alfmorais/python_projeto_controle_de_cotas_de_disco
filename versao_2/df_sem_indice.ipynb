{
  "nbformat": 4,
  "nbformat_minor": 0,
  "metadata": {
    "colab": {
      "name": "Untitled79.ipynb",
      "provenance": [],
      "authorship_tag": "ABX9TyPhNSTJ5Wj9qnAgwX9ee1eu",
      "include_colab_link": true
    },
    "kernelspec": {
      "name": "python3",
      "display_name": "Python 3"
    },
    "language_info": {
      "name": "python"
    }
  },
  "cells": [
    {
      "cell_type": "markdown",
      "metadata": {
        "id": "view-in-github",
        "colab_type": "text"
      },
      "source": [
        "<a href=\"https://colab.research.google.com/github/alfmorais/python_projeto_controle_de_cotas_de_disco/blob/main/df_sem_indice.ipynb\" target=\"_parent\"><img src=\"https://colab.research.google.com/assets/colab-badge.svg\" alt=\"Open In Colab\"/></a>"
      ]
    },
    {
      "cell_type": "code",
      "metadata": {
        "colab": {
          "base_uri": "https://localhost:8080/",
          "height": 142
        },
        "id": "mDTNRTWqqaeO",
        "outputId": "fca2bc22-8f5d-4493-8967-4f15cd134dcb"
      },
      "source": [
        "import pandas as pd\n",
        "\n",
        "tabela = pd.DataFrame({\n",
        "    'Nomes': ['Alfredo', 'Denise', 'Helena'],\n",
        "    'Idade': [28, 31, 1],\n",
        "    'Sexo': ['M', 'F', 'F'],\n",
        "})\n",
        "\n",
        "tabela"
      ],
      "execution_count": 5,
      "outputs": [
        {
          "output_type": "execute_result",
          "data": {
            "text/html": [
              "<div>\n",
              "<style scoped>\n",
              "    .dataframe tbody tr th:only-of-type {\n",
              "        vertical-align: middle;\n",
              "    }\n",
              "\n",
              "    .dataframe tbody tr th {\n",
              "        vertical-align: top;\n",
              "    }\n",
              "\n",
              "    .dataframe thead th {\n",
              "        text-align: right;\n",
              "    }\n",
              "</style>\n",
              "<table border=\"1\" class=\"dataframe\">\n",
              "  <thead>\n",
              "    <tr style=\"text-align: right;\">\n",
              "      <th></th>\n",
              "      <th>Nomes</th>\n",
              "      <th>Idade</th>\n",
              "      <th>Sexo</th>\n",
              "    </tr>\n",
              "  </thead>\n",
              "  <tbody>\n",
              "    <tr>\n",
              "      <th>0</th>\n",
              "      <td>Alfredo</td>\n",
              "      <td>28</td>\n",
              "      <td>M</td>\n",
              "    </tr>\n",
              "    <tr>\n",
              "      <th>1</th>\n",
              "      <td>Denise</td>\n",
              "      <td>31</td>\n",
              "      <td>F</td>\n",
              "    </tr>\n",
              "    <tr>\n",
              "      <th>2</th>\n",
              "      <td>Helena</td>\n",
              "      <td>1</td>\n",
              "      <td>F</td>\n",
              "    </tr>\n",
              "  </tbody>\n",
              "</table>\n",
              "</div>"
            ],
            "text/plain": [
              "     Nomes  Idade Sexo\n",
              "0  Alfredo     28    M\n",
              "1   Denise     31    F\n",
              "2   Helena      1    F"
            ]
          },
          "metadata": {
            "tags": []
          },
          "execution_count": 5
        }
      ]
    },
    {
      "cell_type": "code",
      "metadata": {
        "colab": {
          "base_uri": "https://localhost:8080/"
        },
        "id": "T9BfPmpTq3zJ",
        "outputId": "da6d01a9-be04-4d44-b2e4-682981b855d9"
      },
      "source": [
        "print(tabela.to_string(index=False))"
      ],
      "execution_count": 6,
      "outputs": [
        {
          "output_type": "stream",
          "text": [
            "   Nomes  Idade Sexo\n",
            " Alfredo     28    M\n",
            "  Denise     31    F\n",
            "  Helena      1    F\n"
          ],
          "name": "stdout"
        }
      ]
    }
  ]
}
