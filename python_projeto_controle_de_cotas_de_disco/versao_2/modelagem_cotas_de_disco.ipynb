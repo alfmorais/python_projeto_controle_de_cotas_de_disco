{
  "nbformat": 4,
  "nbformat_minor": 0,
  "metadata": {
    "colab": {
      "name": "Untitled73.ipynb",
      "provenance": [],
      "authorship_tag": "ABX9TyPKkNahDOJvnOtDK1jTbX4S",
      "include_colab_link": true
    },
    "kernelspec": {
      "name": "python3",
      "display_name": "Python 3"
    }
  },
  "cells": [
    {
      "cell_type": "markdown",
      "metadata": {
        "id": "view-in-github",
        "colab_type": "text"
      },
      "source": [
        "<a href=\"https://colab.research.google.com/github/alfmorais/python_projeto_controle_de_cotas_de_disco/blob/main/python_projeto_controle_de_cotas_de_disco/versao_2/modelagem_cotas_de_disco.ipynb\" target=\"_parent\"><img src=\"https://colab.research.google.com/assets/colab-badge.svg\" alt=\"Open In Colab\"/></a>"
      ]
    },
    {
      "cell_type": "code",
      "metadata": {
        "id": "E6qKW559WFUP"
      },
      "source": [
        "import pandas as pd\r\n",
        "import random as rand\r\n",
        "\r\n",
        "\r\n",
        "# Caminho do arquivo nomes.txt -> OBS: Sempre verificar o path\r\n",
        "caminho = '/content/nomes.txt'\r\n",
        "\r\n",
        "# Lista vazia para nomes\r\n",
        "nomes = []\r\n",
        "\r\n",
        "# Abrindo o arquivo nomes.txt e armazenando todos os nomes em uma lista\r\n",
        "with open(caminho, 'r') as objeto_arquivo:\r\n",
        "    arquivo = objeto_arquivo.readlines()\r\n",
        "    for linha in arquivo:\r\n",
        "        linha = linha.strip()\r\n",
        "        nomes.append(linha)\r\n",
        "\r\n",
        "# Lista de números para simular a quantidades de dados\r\n",
        "dados = list(range(99999))\r\n",
        "\r\n",
        "\r\n",
        "def dados_teste(nomes, dados, quantidade):\r\n",
        "    \"\"\"Função que retorna a quantidade de funcionários e dados referentes ao \r\n",
        "    arquivo teste, Exemplo de uso da função\r\n",
        "\r\n",
        "    Args:\r\n",
        "        nomes ([lista]): lista de nomes que está declarado no arquivo\r\n",
        "        dados ([lista]): lista de numeros declarados com a função range\r\n",
        "        quantidade ([inteiro]): quantidade de dados definido pelo usuario\r\n",
        "\r\n",
        "    Returns:\r\n",
        "        [file.txt]: o retorno da função será um arquivo txt com dados selecionados\r\n",
        "        de maneira randomica. \r\n",
        "    \"\"\"\r\n",
        "\r\n",
        "    # Função random.choices para o nome e dados\r\n",
        "    lista_nome = rand.sample(nomes, quantidade)\r\n",
        "    lista_dado = rand.sample(dados, quantidade)\r\n",
        "\r\n",
        "    # Dataframe com os dados de teste\r\n",
        "    arquivo_dados = pd.DataFrame({\r\n",
        "        'Nome': lista_nome,\r\n",
        "        'Dado': lista_dado,\r\n",
        "    })\r\n",
        "\r\n",
        "    # Elaboração do arquivo txt para teste\r\n",
        "    with open('dados_de_texto.txt', 'w') as arquivo_dados_de_teste:\r\n",
        "        arquivo_dados_de_teste.write(arquivo_dados.to_string())\r\n",
        "\r\n",
        "    # Retorno do arquivo dados de teste\r\n",
        "    return arquivo_dados_de_teste\r\n",
        "\r\n",
        "\r\n",
        "arquivo = dados_teste(nomes, dados, 99)"
      ],
      "execution_count": 1,
      "outputs": []
    },
    {
      "cell_type": "code",
      "metadata": {
        "colab": {
          "base_uri": "https://localhost:8080/"
        },
        "id": "Pe57rhadWo9b",
        "outputId": "5bf7ed87-708d-4eed-e73a-65f50260b761"
      },
      "source": [
        "arquivo"
      ],
      "execution_count": 2,
      "outputs": [
        {
          "output_type": "execute_result",
          "data": {
            "text/plain": [
              "<_io.TextIOWrapper name='dados_de_texto.txt' mode='w' encoding='UTF-8'>"
            ]
          },
          "metadata": {
            "tags": []
          },
          "execution_count": 2
        }
      ]
    },
    {
      "cell_type": "code",
      "metadata": {
        "id": "J-goq3CaWzJ3"
      },
      "source": [
        "def leitura_arquivo_gerado(caminho):\r\n",
        "\r\n",
        "  conteudo = []\r\n",
        "  caminho = '/content/dados_de_texto.txt'\r\n",
        "\r\n",
        "  with open(caminho, 'r') as arquivo_dados:\r\n",
        "    for linha in arquivo_dados:\r\n",
        "      linha = str(linha)\r\n",
        "      conteudo.append(linha)\r\n",
        "\r\n",
        "  return conteudo"
      ],
      "execution_count": 28,
      "outputs": []
    },
    {
      "cell_type": "code",
      "metadata": {
        "colab": {
          "base_uri": "https://localhost:8080/"
        },
        "id": "6rMmtD7eXiS2",
        "outputId": "ac43d5e8-0710-4a80-a8a9-f17bd35e8a52"
      },
      "source": [
        "conteudo = leitura_arquivo_gerado(arquivo)\r\n",
        "print(conteudo)"
      ],
      "execution_count": 41,
      "outputs": [
        {
          "output_type": "stream",
          "text": [
            "['              Nome   Dado\\n', '0        Francisco  41714\\n', '1             Ygor  48516\\n', '2    Maria Eduarda  71398\\n', '3          Benicio  55955\\n', '4             Caua  85798\\n', '5           Agatha  20154\\n', '6            Petra   5687\\n', '7             Olga  93153\\n', '8     Joao Gabriel  26897\\n', '9       Joao Pedro  64703\\n', '10            Raul  87752\\n', '11         Isadora  63638\\n', '12      Maria Flor  68484\\n', '13          Branca  71483\\n', '14           Henry  62296\\n', '15          Nathan  92816\\n', '16          Sophie  46600\\n', '17         Vitoria  44978\\n', '18         Salomao  23703\\n', '19            Caio  90489\\n', '20          Isabel   6692\\n', '21         Conrado  99415\\n', '22       Emanuelly  97950\\n', '23           Vitor  17173\\n', '24         Larissa  59055\\n', '25   Maria Cecilia  70888\\n', '26        Charlote   8353\\n', '27        Catarina  37195\\n', '28     Luiz Otavio  53648\\n', '29         Lavinia  83536\\n', '30         Estrela  88229\\n', '31    Pedro Miguel  21780\\n', '32         Tarsila  49683\\n', '33            Gaia  17287\\n', '34       Ana Livia  36264\\n', '35           Mabel  64611\\n', '36            Lara  67524\\n', '37         Martina  34128\\n', '38     Maria Laura     33\\n', '39       Gabrielle  23360\\n', '40            Lino  81207\\n', '41          Bianca    875\\n', '42         Rafaela  88531\\n', '43        Carolina  81028\\n', '44          Inacio  57715\\n', '45   Luiz Henrique  12473\\n', '46        Gabriela  50963\\n', '47           Dante  22738\\n', '48        Angelina  40965\\n', '49           Lucas  93683\\n', '50         Hermano  98758\\n', '51          Ursula  76136\\n', '52    Maria Helena  80559\\n', '53          Camila  80378\\n', '54         Eduardo  26056\\n', '55          Alicia  41604\\n', '56       Ana Sofia   6176\\n', '57            Maya  37661\\n', '58         Ricardo  95866\\n', '59   Arthur Miguel  83830\\n', '60           Tadeu  45358\\n', '61       Guadalupe   3164\\n', '62    Enzo Gabriel  51013\\n', '63      Maria Isis  78326\\n', '64         Ernesto  70842\\n', '65  Arthur Gabriel  43330\\n', '66       Frederica  47874\\n', '67     Ana Beatriz  54452\\n', '68           Bruno  88372\\n', '69           Joana  14491\\n', '70            Vida  58961\\n', '71        Lourenco  97620\\n', '72            Noah  62526\\n', '73            Cora  44221\\n', '74            Joao  79252\\n', '75           Linda  35232\\n', '76          Samuel  10407\\n', '77            Luan  57525\\n', '78           Amado  36738\\n', '79            Isis  76425\\n', '80          Olivia  56625\\n', '81     Ana Cecília  26875\\n', '82        Assucena  17720\\n', '83        Coralina   3317\\n', '84     Maria Clara  87913\\n', '85       Valentino  45327\\n', '86         Heloisa  79371\\n', '87          Cicero  57885\\n', '88         Caetana  82017\\n', '89         Leticia  14910\\n', '90          Murilo  67451\\n', '91        Gregorio  55567\\n', '92        Santiago  70501\\n', '93            Ciro  26366\\n', '94  Joao Guilherme  63672\\n', '95           Analu  30622\\n', '96     Luiz Felipe  39536\\n', '97           Amora  30479\\n', '98     Enzo Miguel   1262']\n"
          ],
          "name": "stdout"
        }
      ]
    },
    {
      "cell_type": "code",
      "metadata": {
        "id": "DQo8h8OWZtV0"
      },
      "source": [
        "def limpando_dados_gerados(conteudo):\r\n",
        "\r\n",
        "  # Eliminando o cabeçalho do dataframe\r\n",
        "  # Eliminando os ultimos digitos\r\n",
        "  # Eliminando os espaços em branco\r\n",
        "  \r\n",
        "  if conteudo[0] == '              Nome   Dado\\n':\r\n",
        "      del(conteudo[0])\r\n",
        "  \r\n",
        "  novo_conteudo = []\r\n",
        "\r\n",
        "  for indice in conteudo:\r\n",
        "    indice = indice[:-1]\r\n",
        "    indice = indice.replace(' ', '')\r\n",
        "    indice = indice.replace(indice[0], '')\r\n",
        "    novo_conteudo.append(indice)\r\n",
        "    \r\n",
        "  return novo_conteudo"
      ],
      "execution_count": 43,
      "outputs": []
    },
    {
      "cell_type": "code",
      "metadata": {
        "colab": {
          "base_uri": "https://localhost:8080/"
        },
        "id": "0yYvuFkzagDj",
        "outputId": "86e022cf-3b26-40a9-e6d4-8e0c473f35a1"
      },
      "source": [
        "conteudo = limpando_dados_gerados(conteudo)\r\n",
        "print(conteudo)"
      ],
      "execution_count": 44,
      "outputs": [
        {
          "output_type": "stream",
          "text": [
            "['Francisco41714', 'Ygor4856', 'MariaEduarda71398', 'Benicio55955', 'Caua85798', 'Agatha2014', 'Petra587', 'Olga93153', 'JoaoGabriel2697', 'JoaoPedro64703', '0Raul87752', 'Isadora63638', '2MariaFlor68484', '3Branca7483', '4Henry62296', '5Nathan9286', '6Sophie46600', '7Vitoria44978', '8Salomao23703', '9Caio90489', '0Isabel669', '1Conrado99415', 'Emanuelly97950', '3Vitor17173', '4Larissa59055', '5MariaCecilia70888', '6Charlote8353', '7Catarina37195', '8LuizOtavio53648', '9Lavinia83536', '0Estrela88229', '1PedroMiguel21780', '2Tarsila4968', 'Gaia17287', '4AnaLivia6264', '5Mabel64611', '6Lara67524', '7Martina4128', '8MariaLaura', '9Gabrielle260', '0Lino81207', '1Bianca875', '2Rafaela88531', '3Carolina81028', 'Inacio57715', '5LuizHenrique1273', '6Gabriela50963', '7Dante22738', '8Angelina0965', '9Lucas93683', '0Hermano9878', '1Ursula76136', '2MariaHelena809', '3Camila80378', '4Eduardo2606', 'Alicia41604', '6AnaSofia6176', '7Maya37661', '8Ricardo9866', '9ArthurMiguel83830', '0Tadeu45358', '1Guadalupe314', '2EnzoGabriel51013', '3MariaIsis7832', '4Ernesto70842', '5ArthurGabriel43330', 'Frederica47874', '7AnaBeatriz54452', '8Bruno88372', '9Joana14491', '0Vida58961', '1Lourenco9620', '2Noah62526', '3Cora44221', '4Joao9252', '5Linda35232', '6Samuel1040', 'Luan5525', '8Amado3638', '9Isis6425', '0Olivia56625', '1AnaCecília2675', '2Assucena17720', '3Coralina3317', '4MariaClara7913', '5Valentino45327', '6Heloisa79371', '7Cicero575', 'Caetana2017', '9Leticia14910', '0Murilo67451', '1Gregorio55567', '2Santiago70501', '3Ciro26366', '4JoaoGuilherme63672', '5Analu30622', '6LuizFelipe3536', '7Amora3047', '8EnzoMiguel126']\n"
          ],
          "name": "stdout"
        }
      ]
    }
  ]
}